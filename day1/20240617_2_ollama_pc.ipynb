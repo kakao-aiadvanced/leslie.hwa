{
 "cells": [
  {
   "cell_type": "code",
   "execution_count": 1,
   "metadata": {},
   "outputs": [
    {
     "name": "stdout",
     "output_type": "stream",
     "text": [
      "Python 3.7.8\r\n"
     ]
    }
   ],
   "source": [
    "!python --version"
   ]
  },
  {
   "cell_type": "markdown",
   "metadata": {},
   "source": [
    "# Local LLM setup\n",
    "1.   Ollama 설치\n",
    "https://ollama.com/download\n",
    "\n",
    "\n",
    "2.   Terminal 에서 Llama3 실행\n",
    "ollama run llama3\n",
    "https://github.com/ollama/ollama\n",
    "\n",
    "\n",
    "3.   API 를 통해 Ollama Llama3 모델에 프롬프트 입력하고 결과 받기\n",
    "\n",
    "\n",
    "4.   Model phi3로 변경해서 2, 3 해보기\n",
    "\n",
    "\n",
    "5.   사전에 작성한 2개의 역할 중 무엇이 사용자 입력 프롬프트에 대해 더 잘 답할 수 있을지 답변하는 프롬프트 작성하기 (질문에 대한 답변을 하는 것이 아니라 2개의 역할 중 어떤 역할이 잘 답할지를 답변하도록 하기)\n",
    "첫번째 역할: math teacher\n",
    "두번째 역할: history teacher\n",
    "사용자 입력 예) what is the Newton’s law? How did World War I end?\n",
    "\n",
    "\n",
    "6.   5에서 작성한 프롬프트와 역할을 이용해, 사용자 입력에 적합한 역할로써 사용자 입력에 답하는 프롬프트 및 코드 작성하기\n",
    "\n",
    "\n",
    "7.   오늘 배운 프롬프트 엔지니어링을 활용해 5번의 각 역할이 더 대답을 잘할 수 있도록 프롬프트 개선하기\n",
    "\n",
    "\n",
    "8.   1부터 n 까지의 자연 수 중 m 개의 수를 list 를 받아 정렬하는 문제를 LLM 이 잘 풀 수 있도록 다양한 프롬프트 엔지니어링을 시도, 평가해보고 시도한 프롬프트의 테스트 케이스들에 대한 프롬프트별  성공률 및 순위를 작성"
   ]
  },
  {
   "cell_type": "code",
   "execution_count": 3,
   "metadata": {},
   "outputs": [],
   "source": [
    "import requests"
   ]
  },
  {
   "cell_type": "code",
   "execution_count": 15,
   "metadata": {},
   "outputs": [],
   "source": [
    "system = f\"\"\"\n",
    "you are a math teacher.\n",
    "answer in 3 sentences.\n",
    "\"\"\""
   ]
  },
  {
   "cell_type": "code",
   "execution_count": 16,
   "metadata": {},
   "outputs": [],
   "source": [
    "question = \"Why is the sky blue?\""
   ]
  },
  {
   "cell_type": "code",
   "execution_count": 17,
   "metadata": {},
   "outputs": [],
   "source": [
    "res = requests.post('http://localhost:11434/api/generate', json={\n",
    "  \"model\": \"llama3\",\n",
    "  \"system\": system,\n",
    "  \"prompt\": question,\n",
    "  \"stream\": False\n",
    "}).json()\n",
    "role = res.get('response')"
   ]
  },
  {
   "cell_type": "code",
   "execution_count": 18,
   "metadata": {
    "scrolled": true
   },
   "outputs": [
    {
     "data": {
      "text/plain": [
       "'The sky appears blue because of a phenomenon called Rayleigh scattering, where shorter wavelengths of light (such as blue and violet) are scattered more than longer wavelengths (like red and orange) by the tiny molecules of gases in the atmosphere. This scattering effect gives the sky its blue hue. In mathematical terms, we can model this scattering using the Rayleigh formula, which describes the intensity of scattered light as a function of wavelength!'"
      ]
     },
     "execution_count": 18,
     "metadata": {},
     "output_type": "execute_result"
    }
   ],
   "source": [
    "role"
   ]
  },
  {
   "cell_type": "code",
   "execution_count": 21,
   "metadata": {},
   "outputs": [],
   "source": [
    "res = requests.post('http://localhost:11434/api/generate', json={\n",
    "  \"model\": \"Phi3\",\n",
    "  \"system\": system,\n",
    "  \"prompt\": question,\n",
    "  \"stream\": False\n",
    "}).json()\n",
    "role = res.get('response')"
   ]
  },
  {
   "cell_type": "code",
   "execution_count": 22,
   "metadata": {},
   "outputs": [
    {
     "data": {
      "text/plain": [
       "\" The sky appears blue due to Rayleigh scattering, where shorter wavelengths of light (blue and violet) are scattered more frequently by molecules and tiny particles in Earth's atmosphere than longer wavelengths like red or yellow. However, our eyes are less sensitive to violet light, which also contributes to the sky appearing blue instead of violet. Additionally, some amount of sunlight is absorbed by ozone before it reaches the upper atmosphere, further influencing the color we perceive.\""
      ]
     },
     "execution_count": 22,
     "metadata": {},
     "output_type": "execute_result"
    }
   ],
   "source": [
    "role"
   ]
  },
  {
   "cell_type": "code",
   "execution_count": 12,
   "metadata": {},
   "outputs": [],
   "source": [
    "system = f\"\"\"\n",
    "you are a historical teacher.\n",
    "answer in 3 sentences.\n",
    "\"\"\""
   ]
  },
  {
   "cell_type": "code",
   "execution_count": 13,
   "metadata": {},
   "outputs": [],
   "source": [
    "res = requests.post('http://localhost:11434/api/generate', json={\n",
    "  \"model\": \"llama3\",\n",
    "  \"system\": system,\n",
    "  \"prompt\": question,\n",
    "  \"stream\": False\n",
    "}).json()\n",
    "role = res.get('response')"
   ]
  },
  {
   "cell_type": "code",
   "execution_count": 14,
   "metadata": {},
   "outputs": [
    {
     "data": {
      "text/plain": [
       "\"The ancient Greeks were among the first to ponder this question, with philosophers like Aristotle and Empedocles proposing various theories to explain why the sky appears blue. It wasn't until the 17th century that Sir Isaac Newton provided a scientific explanation, attributing the blue color to the way that shorter wavelengths of light are scattered by the tiny molecules of gases in the Earth's atmosphere. Today, we know that this scattering effect is responsible for the blue hue we see in the sky on a clear day!\""
      ]
     },
     "execution_count": 14,
     "metadata": {},
     "output_type": "execute_result"
    }
   ],
   "source": [
    "role"
   ]
  },
  {
   "cell_type": "code",
   "execution_count": 23,
   "metadata": {},
   "outputs": [],
   "source": [
    "res = requests.post('http://localhost:11434/api/generate', json={\n",
    "  \"model\": \"Phi\",\n",
    "  \"system\": system,\n",
    "  \"prompt\": question,\n",
    "  \"stream\": False\n",
    "}).json()\n",
    "role = res.get('response')"
   ]
  },
  {
   "cell_type": "code",
   "execution_count": 24,
   "metadata": {},
   "outputs": [],
   "source": [
    "role"
   ]
  },
  {
   "cell_type": "code",
   "execution_count": 25,
   "metadata": {},
   "outputs": [
    {
     "name": "stdout",
     "output_type": "stream",
     "text": [
      "/Users/LEEHK_MB\r\n"
     ]
    }
   ],
   "source": [
    "!pwd"
   ]
  },
  {
   "cell_type": "code",
   "execution_count": null,
   "metadata": {},
   "outputs": [],
   "source": []
  }
 ],
 "metadata": {
  "kernelspec": {
   "display_name": "Python 3",
   "language": "python",
   "name": "python3"
  },
  "language_info": {
   "codemirror_mode": {
    "name": "ipython",
    "version": 3
   },
   "file_extension": ".py",
   "mimetype": "text/x-python",
   "name": "python",
   "nbconvert_exporter": "python",
   "pygments_lexer": "ipython3",
   "version": "3.8.3"
  }
 },
 "nbformat": 4,
 "nbformat_minor": 4
}
